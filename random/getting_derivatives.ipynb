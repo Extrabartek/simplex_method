{
 "cells": [
  {
   "metadata": {
    "ExecuteTime": {
     "end_time": "2024-06-17T18:42:16.011172Z",
     "start_time": "2024-06-17T18:42:15.762695Z"
    }
   },
   "cell_type": "code",
   "source": "import sympy as sp",
   "id": "7b83c38771cd3c7b",
   "outputs": [],
   "execution_count": 1
  },
  {
   "metadata": {},
   "cell_type": "markdown",
   "source": "Create the symbolic functions for the output equations",
   "id": "75016dd5b3444f21"
  },
  {
   "metadata": {
    "ExecuteTime": {
     "end_time": "2024-06-17T18:42:16.039349Z",
     "start_time": "2024-06-17T18:42:16.012169Z"
    }
   },
   "cell_type": "code",
   "source": [
    "u = sp.Symbol('u')\n",
    "v = sp.Symbol('v')\n",
    "w = sp.Symbol('w')\n",
    "C_a_up = sp.Symbol('C_a_up')\n",
    "\n",
    "\n",
    "alpha = sp.atan2(w, u) * (1 + C_a_up)\n",
    "beta = sp.atan2(v, sp.sqrt(u*u + w*w))\n",
    "V = sp.sqrt(u * u + v * v + w * w)"
   ],
   "id": "fa4b5a3d620cdb26",
   "outputs": [],
   "execution_count": 2
  },
  {
   "metadata": {},
   "cell_type": "markdown",
   "source": "Get the derivatives with respect to all variables",
   "id": "2646c3f0cfcecd5e"
  },
  {
   "metadata": {
    "ExecuteTime": {
     "end_time": "2024-06-17T18:46:53.936002Z",
     "start_time": "2024-06-17T18:46:53.931859Z"
    }
   },
   "cell_type": "code",
   "source": [
    "d_alpha = [sp.diff(alpha, u), sp.diff(alpha, v), sp.diff(alpha, w), sp.diff(alpha, C_a_up)]\n",
    "print(d_alpha)"
   ],
   "id": "767bb3b68262a1dd",
   "outputs": [
    {
     "name": "stdout",
     "output_type": "stream",
     "text": [
      "[-w*(C_a_up + 1)/(u**2 + w**2), 0, u*(C_a_up + 1)/(u**2 + w**2), atan2(w, u)]\n"
     ]
    }
   ],
   "execution_count": 5
  },
  {
   "metadata": {
    "ExecuteTime": {
     "end_time": "2024-06-17T18:47:00.212280Z",
     "start_time": "2024-06-17T18:47:00.203095Z"
    }
   },
   "cell_type": "code",
   "source": [
    "d_beta = [sp.diff(beta, u), sp.diff(beta, v), sp.diff(beta, w), sp.diff(beta, C_a_up)]\n",
    "print(d_beta)"
   ],
   "id": "9239462acf920f3d",
   "outputs": [
    {
     "name": "stdout",
     "output_type": "stream",
     "text": [
      "[-u*v/(sqrt(u**2 + w**2)*(u**2 + v**2 + w**2)), sqrt(u**2 + w**2)/(u**2 + v**2 + w**2), -v*w/(sqrt(u**2 + w**2)*(u**2 + v**2 + w**2)), 0]\n"
     ]
    }
   ],
   "execution_count": 6
  },
  {
   "metadata": {
    "ExecuteTime": {
     "end_time": "2024-06-17T18:47:49.066788Z",
     "start_time": "2024-06-17T18:47:49.062810Z"
    }
   },
   "cell_type": "code",
   "source": [
    "d_V = [sp.diff(V, u), sp.diff(V, v), sp.diff(V, w), sp.diff(V, C_a_up)]\n",
    "print(d_V)"
   ],
   "id": "b1ebecc9ecdd73cf",
   "outputs": [
    {
     "name": "stdout",
     "output_type": "stream",
     "text": [
      "[u/sqrt(u**2 + v**2 + w**2), v/sqrt(u**2 + v**2 + w**2), w/sqrt(u**2 + v**2 + w**2), 0]\n"
     ]
    }
   ],
   "execution_count": 8
  },
  {
   "metadata": {
    "ExecuteTime": {
     "end_time": "2024-06-17T19:09:03.659798Z",
     "start_time": "2024-06-17T19:09:03.653349Z"
    }
   },
   "cell_type": "code",
   "source": [
    "import numpy as np\n",
    "\n",
    "x = {('u', 1), ('v', 1), ('w', 1), ('C_a_up', 1)}\n",
    "\n",
    "d_x = [[1], [1], [1], [1]]\n",
    "\n",
    "J = np.zeros([3, 4])\n",
    "\n",
    "J[0, 0] = d_alpha[0].subs(x)\n",
    "J[0, 1] = d_alpha[1].subs(x)\n",
    "J[0, 2] = d_alpha[2].subs(x)\n",
    "J[0, 3] = d_alpha[3].subs(x)\n",
    "\n",
    "J[1, 0] = d_beta[0].subs(x)\n",
    "J[1, 1] = d_beta[1].subs(x)\n",
    "J[1, 2] = d_beta[2].subs(x)\n",
    "J[1, 3] = d_beta[3].subs(x)\n",
    "\n",
    "J[2, 0] = d_V[0].subs(x)\n",
    "J[2, 1] = d_V[1].subs(x)\n",
    "J[2, 2] = d_V[2].subs(x)\n",
    "J[2, 3] = d_V[3].subs(x)\n",
    "\n",
    "\n",
    "print(J @ d_x)\n",
    "        "
   ],
   "id": "ad0bb5d054bb92b1",
   "outputs": [
    {
     "name": "stdout",
     "output_type": "stream",
     "text": [
      "[[0.78539816]\n",
      " [0.        ]\n",
      " [1.73205081]]\n"
     ]
    }
   ],
   "execution_count": 15
  },
  {
   "metadata": {},
   "cell_type": "code",
   "outputs": [],
   "execution_count": null,
   "source": "",
   "id": "8d54a343e15e51b0"
  }
 ],
 "metadata": {
  "kernelspec": {
   "display_name": "Python 3",
   "language": "python",
   "name": "python3"
  },
  "language_info": {
   "codemirror_mode": {
    "name": "ipython",
    "version": 2
   },
   "file_extension": ".py",
   "mimetype": "text/x-python",
   "name": "python",
   "nbconvert_exporter": "python",
   "pygments_lexer": "ipython2",
   "version": "2.7.6"
  }
 },
 "nbformat": 4,
 "nbformat_minor": 5
}
